{
 "cells": [
  {
   "cell_type": "code",
   "execution_count": 1,
   "metadata": {
    "ExecuteTime": {
     "end_time": "2021-10-15T05:42:17.683409Z",
     "start_time": "2021-10-15T05:42:16.473157Z"
    }
   },
   "outputs": [],
   "source": [
    "#imports\n",
    "from google.cloud import vision \n",
    "import io\n",
    "import os\n",
    "import pandas as pd\n",
    "from IPython.display import Image\n",
    "\n",
    "#authentication\n",
    "PATH_TO_CREDENTIALS = \"/Users/shaydamoezzi/Desktop/keyfile.json\"\n",
    "os.environ[\"GOOGLE_APPLICATION_CREDENTIALS\"]=PATH_TO_CREDENTIALS"
   ]
  },
  {
   "cell_type": "code",
   "execution_count": 2,
   "metadata": {
    "ExecuteTime": {
     "end_time": "2021-10-15T05:50:10.137640Z",
     "start_time": "2021-10-15T05:42:18.883801Z"
    }
   },
   "outputs": [],
   "source": [
    "PATH_TO_IMAGES_miniplaces = '/Users/shaydamoezzi/Dropbox (MIT)/UROP/TestImageData/' #shayda's local computer path\n",
    "\n",
    "#PATH_TO_IMAGES_miniplaces = '/Users/shaydamoezzi/Dropbox (MIT)/car-can-explain/data/TestImageData/' #change path accordingly\n",
    "folders = ['bridge', 'classroom', 'coffee_shop', 'construction_site']\n",
    "\n",
    "def object_label_annotations(path):\n",
    "    \"\"\"Given a batch of images returns \n",
    "    objects detected and label annotations from \n",
    "    google vision API\"\"\"\n",
    "    \n",
    "    client = vision.ImageAnnotatorClient()\n",
    "\n",
    "    with io.open(path, 'rb') as image_file:\n",
    "        content = image_file.read()\n",
    "\n",
    "    image = vision.Image(content=content)\n",
    "\n",
    "    response_labels = client.label_detection(image=image)\n",
    "    labels = response_labels.label_annotations\n",
    "    \n",
    "\n",
    "    \n",
    "    response_object = client.object_localization(image=image)\n",
    "    objects = response_object.localized_object_annotations\n",
    "    \n",
    "    object_scores = {'Object':[], 'Score':[]}\n",
    "    for object in objects:   \n",
    "       object_scores['Object'].append(object.name)\n",
    "       object_scores['Score'].append(object.score)\n",
    "\n",
    "\n",
    "    label_scores = {'Label': [], 'Score':[]}\n",
    "    for label in labels:   \n",
    "       label_scores['Label'].append(label.description)\n",
    "       label_scores['Score'].append(label.score)\n",
    "    \n",
    "\n",
    "\n",
    "    \n",
    "    \n",
    "    df_labels = pd.DataFrame(data=label_scores)\n",
    "    df_objects = pd.DataFrame(data=object_scores)\n",
    "   \n",
    "    return (df_labels, df_objects)\n",
    "\n",
    "label_list = []\n",
    "object_list = []\n",
    "name_list = []\n",
    "\n",
    "for folder in folders:\n",
    "    for file in os.listdir(PATH_TO_IMAGES_miniplaces+folder+'/'):\n",
    "        filename = PATH_TO_IMAGES_miniplaces+folder+'/'+file\n",
    "        labels = object_label_annotations(filename)[0]\n",
    "        objects = object_label_annotations(filename)[1]\n",
    "        base_filename = 'Values.txt'\n",
    "        name_list.append(file)\n",
    "        label_list.append(labels.to_string())\n",
    "        object_list.append(objects.to_string())\n",
    "\n",
    "        \n",
    "\n",
    "file = open('/Users/shaydamoezzi/Dropbox (MIT)/UROP/labels','w')\n",
    "for i in range(len(label_list)):\n",
    "    file.write(name_list[i]+ '\\n'+ label_list[i] + '\\n'+ object_list[i] + '\\n' +'\\n')\n",
    "file.close()\n",
    "            \n"
   ]
  },
  {
   "cell_type": "code",
   "execution_count": null,
   "metadata": {},
   "outputs": [],
   "source": []
  }
 ],
 "metadata": {
  "kernelspec": {
   "display_name": "Python 3",
   "language": "python",
   "name": "python3"
  },
  "language_info": {
   "codemirror_mode": {
    "name": "ipython",
    "version": 3
   },
   "file_extension": ".py",
   "mimetype": "text/x-python",
   "name": "python",
   "nbconvert_exporter": "python",
   "pygments_lexer": "ipython3",
   "version": "3.7.6"
  }
 },
 "nbformat": 4,
 "nbformat_minor": 4
}
