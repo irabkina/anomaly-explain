{
 "cells": [
  {
   "cell_type": "code",
   "execution_count": 1,
   "id": "64f6712a",
   "metadata": {},
   "outputs": [
    {
     "name": "stdout",
     "output_type": "stream",
     "text": [
      "Made a ConceptNet monitor, now trying to explain\n"
     ]
    },
    {
     "ename": "FileNotFoundError",
     "evalue": "[Errno 2] No such file or directory: '/Users/leilani/workspace/anomaly-explain/datasets/PAX/output_feb25.txt'",
     "output_type": "error",
     "traceback": [
      "\u001b[0;31m---------------------------------------------------------------------------\u001b[0m",
      "\u001b[0;31mFileNotFoundError\u001b[0m                         Traceback (most recent call last)",
      "\u001b[0;32m/var/folders/t0/ny288p_d7dd56m7y37v_14fm0000gn/T/ipykernel_78750/3801759390.py\u001b[0m in \u001b[0;36m<module>\u001b[0;34m\u001b[0m\n\u001b[1;32m      7\u001b[0m \u001b[0mprint\u001b[0m\u001b[0;34m(\u001b[0m\u001b[0;34m\"Made a ConceptNet monitor, now trying to explain\"\u001b[0m\u001b[0;34m)\u001b[0m\u001b[0;34m\u001b[0m\u001b[0;34m\u001b[0m\u001b[0m\n\u001b[1;32m      8\u001b[0m \u001b[0;34m\u001b[0m\u001b[0m\n\u001b[0;32m----> 9\u001b[0;31m \u001b[0mevents\u001b[0m \u001b[0;34m=\u001b[0m \u001b[0mparse_file_to_event_list\u001b[0m\u001b[0;34m(\u001b[0m\u001b[0;34m\"datasets/output_feb25.txt\"\u001b[0m\u001b[0;34m)\u001b[0m  \u001b[0;31m# This reads in the file.\u001b[0m\u001b[0;34m\u001b[0m\u001b[0;34m\u001b[0m\u001b[0m\n\u001b[0m\u001b[1;32m     10\u001b[0m \u001b[0madditional_facts\u001b[0m \u001b[0;34m=\u001b[0m \u001b[0mcreate_facts_from_file\u001b[0m\u001b[0;34m(\u001b[0m\u001b[0;34m\"gaze_facts.txt\"\u001b[0m\u001b[0;34m)\u001b[0m\u001b[0;34m\u001b[0m\u001b[0;34m\u001b[0m\u001b[0m\n\u001b[1;32m     11\u001b[0m \u001b[0mcn_monitor\u001b[0m\u001b[0;34m.\u001b[0m\u001b[0mexplain_events\u001b[0m\u001b[0;34m(\u001b[0m\u001b[0mevents\u001b[0m\u001b[0;34m,\u001b[0m \u001b[0madditional_facts\u001b[0m\u001b[0;34m)\u001b[0m\u001b[0;34m\u001b[0m\u001b[0;34m\u001b[0m\u001b[0m\n",
      "\u001b[0;32m~/workspace/anomaly-explain/commonsense/logical_classes.py\u001b[0m in \u001b[0;36mparse_file_to_event_list\u001b[0;34m(fileName, event_limit)\u001b[0m\n\u001b[1;32m    218\u001b[0m     \"\"\"\n\u001b[1;32m    219\u001b[0m     \u001b[0mfact_list_per_event\u001b[0m \u001b[0;34m=\u001b[0m \u001b[0;34m[\u001b[0m\u001b[0;34m]\u001b[0m\u001b[0;34m\u001b[0m\u001b[0;34m\u001b[0m\u001b[0m\n\u001b[0;32m--> 220\u001b[0;31m     \u001b[0mfile1\u001b[0m \u001b[0;34m=\u001b[0m \u001b[0mopen\u001b[0m\u001b[0;34m(\u001b[0m\u001b[0;34m\"/Users/leilani/workspace/anomaly-explain/datasets/PAX/output_feb25.txt\"\u001b[0m\u001b[0;34m,\u001b[0m \u001b[0;34m'r'\u001b[0m\u001b[0;34m)\u001b[0m\u001b[0;34m\u001b[0m\u001b[0;34m\u001b[0m\u001b[0m\n\u001b[0m\u001b[1;32m    221\u001b[0m     \u001b[0mlines\u001b[0m \u001b[0;34m=\u001b[0m \u001b[0mfile1\u001b[0m\u001b[0;34m.\u001b[0m\u001b[0mreadlines\u001b[0m\u001b[0;34m(\u001b[0m\u001b[0;34m)\u001b[0m\u001b[0;34m\u001b[0m\u001b[0;34m\u001b[0m\u001b[0m\n\u001b[1;32m    222\u001b[0m     \u001b[0mevents\u001b[0m \u001b[0;34m=\u001b[0m \u001b[0;34m[\u001b[0m\u001b[0;34m]\u001b[0m\u001b[0;34m\u001b[0m\u001b[0;34m\u001b[0m\u001b[0m\n",
      "\u001b[0;31mFileNotFoundError\u001b[0m: [Errno 2] No such file or directory: '/Users/leilani/workspace/anomaly-explain/datasets/PAX/output_feb25.txt'"
     ]
    }
   ],
   "source": [
    "import commonsense.conceptnet as kb\n",
    "from commonsense.logical_classes import to_data_frame, parse_file_to_fact_list, parse_file_to_event_list, parse_raw_file_to_event_list, create_facts_from_file\n",
    "from monitor.reasonableness_monitor import SnapshotMonitor\n",
    "\n",
    "cn = kb.ConceptNet()  # choose your KB \n",
    "cn_monitor = SnapshotMonitor()  # labels=labels, data=data, rules=rules)\n",
    "print(\"Made a ConceptNet monitor, now trying to explain\")\n",
    "\n",
    "events = parse_file_to_event_list(\"datasets/output_feb25.txt\")  # This reads in the file. \n",
    "additional_facts = create_facts_from_file(\"gaze_facts.txt\")\n",
    "cn_monitor.explain_events(events, additional_facts)\n"
   ]
  },
  {
   "cell_type": "code",
   "execution_count": 22,
   "id": "3cb2709c",
   "metadata": {},
   "outputs": [
    {
     "ename": "NameError",
     "evalue": "name 'additional_facts' is not defined",
     "output_type": "error",
     "traceback": [
      "\u001b[0;31m---------------------------------------------------------------------------\u001b[0m",
      "\u001b[0;31mNameError\u001b[0m                                 Traceback (most recent call last)",
      "\u001b[0;32m/var/folders/t0/ny288p_d7dd56m7y37v_14fm0000gn/T/ipykernel_78750/496289977.py\u001b[0m in \u001b[0;36m<module>\u001b[0;34m\u001b[0m\n\u001b[1;32m     65\u001b[0m \u001b[0mevents\u001b[0m\u001b[0;34m\u001b[0m\u001b[0;34m\u001b[0m\u001b[0m\n\u001b[1;32m     66\u001b[0m \u001b[0;34m\u001b[0m\u001b[0m\n\u001b[0;32m---> 67\u001b[0;31m \u001b[0mcn_monitor\u001b[0m\u001b[0;34m.\u001b[0m\u001b[0mexplain_events\u001b[0m\u001b[0;34m(\u001b[0m\u001b[0mevents\u001b[0m\u001b[0;34m,\u001b[0m \u001b[0madditional_facts\u001b[0m\u001b[0;34m)\u001b[0m\u001b[0;34m\u001b[0m\u001b[0;34m\u001b[0m\u001b[0m\n\u001b[0m",
      "\u001b[0;31mNameError\u001b[0m: name 'additional_facts' is not defined"
     ]
    }
   ],
   "source": [
    "from commonsense.logical_classes import Fact, Event\n",
    "\n",
    "def test():\n",
    "    file1 = open(\"/Users/leilani/workspace/anomaly-explain/datasets/allnewsemanticdatawithmultimodal/allnewsemanticdatawithmultimodal0025.txt\", 'r')\n",
    "    lines = file1.readlines()\n",
    "    events = []\n",
    "    lookingPointCounter = 1\n",
    "    lookingDirectionCounter = 1\n",
    "    speaksCounter = 1\n",
    "\n",
    "    count = 0\n",
    "    # Strips the newline character\n",
    "    for line in lines:  # each one is a new event\n",
    "        tokens = line.strip().replace(\"(\", \"\").replace(\")\", \"\").split()\n",
    "#         print(tokens)\n",
    "        if tokens[2] == 'lookingAtPoint':\n",
    "            eventName = 'lookingAtPEvent%d'%lookingPointCounter\n",
    "            [Fact(eventName, 'isa', 'LookingAtPointEvent')]\n",
    "            event = make_looking_event_from_line(eventName, 'lookingAtPoint', \n",
    "                                               tokens[1], tokens[3], tokens[4], tokens[5], tokens[6], tokens[7])\n",
    "            events.append(event)\n",
    "            lookingPointCounter += 1\n",
    "        elif tokens[2] == 'lookingInDirection':\n",
    "            eventName = 'lookingAtPEvent%d'%lookingDirectionCounter\n",
    "            event = make_direction_event_from_line(eventName, 'lookingInDirection', \n",
    "                                               tokens[1], tokens[3], tokens[4], tokens[5])\n",
    "            events.append(event)\n",
    "            lookingDirectionCounter += 1\n",
    "        elif tokens[2] == 'speaksUtterance': # utterance\n",
    "            # isa speaksUttEvent23 speaksUtteranceEvent\n",
    "            eventName = 'speaksUttEvent%d'%speaksCounter\n",
    "            event = make_utterance_event_from_line(eventName, 'speaksUtteranceEvent', \n",
    "                                            tokens[1], tokens[3], tokens[4], tokens[5])\n",
    "            events.append(event)\n",
    "            speaksCounter += 1\n",
    "        else:\n",
    "            # (labelEndsAt (needsLevelOfHelp user 1) 1698)\n",
    "            event = [Fact(tokens[2], tokens[1], tokens[3]),\n",
    "                    Fact(eventName, 'timestamp', tokens[4])]\n",
    "            events.append(event)\n",
    "    return events\n",
    "\n",
    "def make_looking_event_from_line(eventName, eventType, observer, looker, x, y, z, timestamp):\n",
    "    return [Fact(eventName, 'isa', eventType),\n",
    "           Fact(eventName, 'looker', looker),\n",
    "           Fact(eventName, 'pointX', x), \n",
    "           Fact(eventName, 'pointY', y), \n",
    "           Fact(eventName, 'pointZ', z),\n",
    "           Fact(eventName, 'timestamp', timestamp)]\n",
    "\n",
    "def make_direction_event_from_line(eventName, eventType, observer, looker, direction, timestamp):\n",
    "    return [Fact(eventName, 'isa', eventType),\n",
    "           Fact(eventName, 'looker', looker),\n",
    "           Fact(eventName, 'direction', direction), \n",
    "           Fact(eventName, 'timestamp', timestamp)]\n",
    "\n",
    "def make_utterance_event_from_line(eventName, eventType, observer, speaker, utterance, timestamp):\n",
    "    return [Fact(eventName, 'isa', eventType),\n",
    "           Fact(eventName, 'speaker', speaker),\n",
    "           Fact(eventName, 'utterance', utterance), \n",
    "           Fact(eventName, 'timestamp', timestamp)]\n",
    "            \n",
    "# Raw data\n",
    "events = test()  # This reads in the file. \n",
    "events\n",
    "\n",
    "cn_monitor.explain_events(events, additional_facts)"
   ]
  },
  {
   "cell_type": "code",
   "execution_count": null,
   "id": "20e5779e",
   "metadata": {},
   "outputs": [],
   "source": []
  },
  {
   "cell_type": "code",
   "execution_count": null,
   "id": "8cf1bed3",
   "metadata": {},
   "outputs": [],
   "source": [
    "import commonsense.conceptnet as kb\n",
    "from commonsense.logical_classes import to_data_frame, parse_file_to_fact_list, create_facts_from_file\n",
    "from monitor.reasonableness_monitor import SnapshotMonitor\n",
    "\n",
    "cn = kb.ConceptNet()  # choose your KB \n",
    "cn_monitor = SnapshotMonitor()  # labels=labels, data=data, rules=rules)\n",
    "print(\"Made a ConceptNet monitor, now trying to explain\")\n",
    "\n",
    "facts = parse_file_to_fact_list(\"datasets/output_feb25.txt\", 30)  # This reads in the file. \n",
    "additional_facts = create_facts_from_file(\"gaze_facts.txt\")\n",
    "\n",
    "cn_monitor.explain_all_events(facts, additional_facts)"
   ]
  },
  {
   "cell_type": "code",
   "execution_count": null,
   "id": "1d2b8e0a",
   "metadata": {},
   "outputs": [],
   "source": [
    "import commonsense.conceptnet as kb\n",
    "from commonsense.logical_classes import to_data_frame, parse_file_to_fact_list, create_facts_from_file\n",
    "from monitor.reasonableness_monitor import SnapshotMonitor\n",
    "\n",
    "cn = kb.ConceptNet()  # choose your KB \n",
    "cn_monitor = SnapshotMonitor()  # labels=labels, data=data, rules=rules)\n",
    "print(\"Made a ConceptNet monitor, now trying to explain\")\n",
    "\n",
    "facts = parse_file_to_fact_list(\"datasets/output_feb25.txt\")  # This reads in the file. \n",
    "additional_facts = create_facts_from_file(\"gaze_facts.txt\")\n",
    "\n",
    "cn_monitor.explain_all_events(facts, additional_facts)"
   ]
  },
  {
   "cell_type": "code",
   "execution_count": null,
   "id": "0dd97e0a",
   "metadata": {},
   "outputs": [],
   "source": [
    "facts\n",
    "\n",
    "f = to_data_frame(facts)\n",
    "events = f.groupby(\"subject\")\n",
    "f.groupby(\"subject\").count()\n",
    "events.first()\n",
    "events.nth(0)\n",
    "\n",
    "facts"
   ]
  },
  {
   "cell_type": "code",
   "execution_count": null,
   "id": "615591c1",
   "metadata": {},
   "outputs": [],
   "source": []
  },
  {
   "cell_type": "code",
   "execution_count": null,
   "id": "819a5be3",
   "metadata": {},
   "outputs": [],
   "source": []
  },
  {
   "cell_type": "code",
   "execution_count": null,
   "id": "5b3d0b67",
   "metadata": {},
   "outputs": [],
   "source": []
  }
 ],
 "metadata": {
  "kernelspec": {
   "display_name": "Python 3 (ipykernel)",
   "language": "python",
   "name": "python3"
  },
  "language_info": {
   "codemirror_mode": {
    "name": "ipython",
    "version": 3
   },
   "file_extension": ".py",
   "mimetype": "text/x-python",
   "name": "python",
   "nbconvert_exporter": "python",
   "pygments_lexer": "ipython3",
   "version": "3.7.3"
  }
 },
 "nbformat": 4,
 "nbformat_minor": 5
}
